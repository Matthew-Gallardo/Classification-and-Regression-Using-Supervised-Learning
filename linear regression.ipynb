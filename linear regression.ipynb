{
 "cells": [
  {
   "cell_type": "code",
   "execution_count": 1,
   "metadata": {},
   "outputs": [
    {
     "name": "stdout",
     "output_type": "stream",
     "text": [
      "1.2.2\n"
     ]
    }
   ],
   "source": [
    "#scikit-learn version\n",
    "import sklearn\n",
    "print(sklearn.__version__)"
   ]
  },
  {
   "cell_type": "code",
   "execution_count": 2,
   "metadata": {},
   "outputs": [
    {
     "name": "stdout",
     "output_type": "stream",
     "text": [
      "(1000, 10) (1000,)\n"
     ]
    }
   ],
   "source": [
    "#classification dataset\n",
    "from sklearn.datasets import make_classification\n",
    "#define dataset\n",
    "X, y= make_classification(n_samples=1000, n_features=10, n_informative=5, n_redundant=5, random_state=1)\n",
    "#summarize the dataset\n",
    "print(X.shape, y.shape)"
   ]
  },
  {
   "cell_type": "code",
   "execution_count": 3,
   "metadata": {},
   "outputs": [
    {
     "name": "stdout",
     "output_type": "stream",
     "text": [
      "(1000, 10) (1000,)\n"
     ]
    }
   ],
   "source": [
    "#test regression dataset\n",
    "from sklearn.datasets import make_regression\n",
    "#define dataset\n",
    "X, y= make_regression(n_samples=1000, n_features=10, n_informative=5,  random_state=1)\n",
    "#summarize the dataset\n",
    "print(X.shape, y.shape)"
   ]
  },
  {
   "cell_type": "code",
   "execution_count": 6,
   "metadata": {},
   "outputs": [
    {
     "name": "stdout",
     "output_type": "stream",
     "text": [
      "Feature: 0 , Score: -0.00000\n",
      "Feature: 1 , Score: 12.44483\n",
      "Feature: 2 , Score: -0.00000\n",
      "Feature: 3 , Score: 0.00000\n",
      "Feature: 4 , Score: 93.32225\n",
      "Feature: 5 , Score: 86.50811\n",
      "Feature: 6 , Score: 26.74607\n",
      "Feature: 7 , Score: 3.28535\n",
      "Feature: 8 , Score: 0.00000\n",
      "Feature: 9 , Score: 0.00000\n"
     ]
    },
    {
     "data": {
      "image/png": "[encoded data removed]",
      "text/plain": [
       "<Figure size 640x480 with 1 Axes>"
      ]
     },
     "metadata": {},
     "output_type": "display_data"
    }
   ],
   "source": [
    "#linear regression feature importance\n",
    "from sklearn.datasets import make_regression\n",
    "from sklearn.linear_model import LinearRegression\n",
    "from matplotlib import pyplot\n",
    "#define dataset\n",
    "X, y= make_regression(n_samples=1000, n_features=10, n_informative=5,  random_state=1)\n",
    "#Define the model\n",
    "model =LinearRegression()\n",
    "#fit the model\n",
    "model.fit(X,y)\n",
    "#get importance\n",
    "importance = model.coef_\n",
    "#summarize the feature importance\n",
    "for i, v in enumerate(importance):\n",
    "    print ('Feature: %0d , Score: %.5f' %(i, v))\n",
    "#plot feature importance\n",
    "pyplot.bar([x for x in range (len(importance))], importance)\n",
    "pyplot.show()"
   ]
  }
 ],
 "metadata": {
  "kernelspec": {
   "display_name": "Python 3",
   "language": "python",
   "name": "python3"
  },
  "language_info": {
   "codemirror_mode": {
    "name": "ipython",
    "version": 3
   },
   "file_extension": ".py",
   "mimetype": "text/x-python",
   "name": "python",
   "nbconvert_exporter": "python",
   "pygments_lexer": "ipython3",
   "version": "3.11.0"
  },
  "orig_nbformat": 4
 },
 "nbformat": 4,
 "nbformat_minor": 2
}
